{
 "metadata": {
  "language_info": {
   "codemirror_mode": {
    "name": "ipython",
    "version": 3
   },
   "file_extension": ".py",
   "mimetype": "text/x-python",
   "name": "python",
   "nbconvert_exporter": "python",
   "pygments_lexer": "ipython3",
   "version": "3.8.5-final"
  },
  "orig_nbformat": 2,
  "kernelspec": {
   "name": "python3",
   "display_name": "Python 3",
   "language": "python"
  }
 },
 "nbformat": 4,
 "nbformat_minor": 2,
 "cells": [
  {
   "cell_type": "code",
   "execution_count": 212,
   "metadata": {},
   "outputs": [],
   "source": [
    "import pandas as pd\n",
    "import numpy as np\n",
    "import math\n",
    "import os\n",
    "from datetime import datetime, date\n",
    "from scipy import stats"
   ]
  },
  {
   "cell_type": "code",
   "execution_count": 22,
   "metadata": {},
   "outputs": [],
   "source": [
    "cwd = os.getcwd()\n",
    "path_split = cwd.split('/')\n",
    "\n",
    "root_path = r'/'.join(path_split[:-1])"
   ]
  },
  {
   "cell_type": "code",
   "execution_count": 23,
   "metadata": {},
   "outputs": [],
   "source": [
    "mi_path = root_path+'/extraction/mi_ipl.csv'\n",
    "bb_path = root_path+'/extraction/bb_ipl.csv'"
   ]
  },
  {
   "cell_type": "code",
   "execution_count": 24,
   "metadata": {},
   "outputs": [],
   "source": [
    "mi = pd.read_csv(mi_path)\n",
    "bb = pd.read_csv(bb_path)"
   ]
  },
  {
   "cell_type": "code",
   "execution_count": 25,
   "metadata": {},
   "outputs": [],
   "source": [
    "# Need to know which season each game was played in\n",
    "season_lookup = mi[['match_id','season']]"
   ]
  },
  {
   "cell_type": "code",
   "execution_count": 285,
   "metadata": {},
   "outputs": [],
   "source": [
    "data = bb.merge(season_lookup, how='inner', on='match_id')"
   ]
  },
  {
   "cell_type": "code",
   "execution_count": 287,
   "metadata": {},
   "outputs": [],
   "source": [
    "data['four'] = np.where(data['runs'] == 4, True, False)\n",
    "data['six'] = np.where(data['runs'] == 6, True, False)\n",
    "data['boundary'] = data[['four','six']].any(1)\n",
    "\n",
    "# Identifying overs bowled in the Powerplay\n",
    "data['pp'] = np.where(data['over'] < 7, True, False)"
   ]
  },
  {
   "cell_type": "code",
   "execution_count": 289,
   "metadata": {},
   "outputs": [],
   "source": [
    "# Aggregate by bowler, season and in or out of powerplay\n",
    "grouped = data.groupby(['bowler','season','pp'], as_index=False).agg({'ball':'count',\n",
    "                                                'runs':'sum',\n",
    "                                                'extras':'sum',\n",
    "                                                'bowling_wicket':'sum',\n",
    "                                                'four':'sum',\n",
    "                                                'six':'sum',\n",
    "                                                'boundary':'sum'})\n",
    "\n",
    "# Should we remove leg byes / byes from bowlers' stats?? Or just consider all round runs being given away\n",
    "grouped['runs'] = grouped['runs']+grouped['extras']\n",
    "grouped.drop(columns=['extras'], inplace=True)\n",
    "grouped.rename(columns={'ball':'balls','bowling_wicket':'wickets'}, inplace=True)"
   ]
  },
  {
   "cell_type": "code",
   "execution_count": 290,
   "metadata": {},
   "outputs": [],
   "source": [
    "# Calculating the rate at which runs are conceded and wickets are taken\n",
    "for col in ['runs','wickets']:\n",
    "    grouped[col+'_rate'] = grouped[col] / grouped['balls']"
   ]
  },
  {
   "cell_type": "code",
   "execution_count": 384,
   "metadata": {},
   "outputs": [],
   "source": [
    "# Calculate the min and max for every combination of season / in or out in powerplay\n",
    "minmax = grouped.groupby(['season','pp']).agg({'runs_rate':['min','max'], 'wickets_rate':['min','max']}).T.to_dict()"
   ]
  },
  {
   "cell_type": "code",
   "execution_count": 385,
   "metadata": {},
   "outputs": [],
   "source": [
    "def get_scores(row, minmax):\n",
    "    season = row['season']\n",
    "    pp = row['pp']\n",
    "\n",
    "    for col in ['runs_rate','wickets_rate']:\n",
    "        value = row[col]\n",
    "        minv = minmax[season,pp][col,'min']\n",
    "        maxv = minmax[season,pp][col,'max']\n",
    "\n",
    "        if col == 'runs_rate':\n",
    "            # Run rate is 1 - because it's better to have a low score\n",
    "            row[col+'_scaled'] = 1 - ((value-minv) / (maxv-minv))\n",
    "        else:\n",
    "            # scale wickets rate, obviously higher wicket rate == good\n",
    "            row[col+'_scaled'] = ((value-minv) / (maxv-minv))\n",
    "\n",
    "    return row"
   ]
  },
  {
   "cell_type": "code",
   "execution_count": 417,
   "metadata": {},
   "outputs": [],
   "source": [
    "# get scaled scores for run rate and wicket rate\n",
    "scores = grouped.apply(lambda row: get_scores(row, minmax), axis=1)"
   ]
  },
  {
   "cell_type": "code",
   "execution_count": 418,
   "metadata": {},
   "outputs": [],
   "source": [
    "# find a list of all the seasons we have data for\n",
    "seasons = scores.sort_values('season').season.unique().tolist()"
   ]
  },
  {
   "cell_type": "code",
   "execution_count": 419,
   "metadata": {},
   "outputs": [],
   "source": [
    "# creates a fibonacci sequence to be used as a recency multipler (ignores the 0 as didn't want to multiply scores by 0)\n",
    "def fibonacci(n):\n",
    "    n0 = 0\n",
    "    n1 = 1\n",
    "    seq = [n1]\n",
    "\n",
    "    while len(seq) < n:\n",
    "        newn = n0+n1\n",
    "        n0 = n1\n",
    "        n1 = newn\n",
    "        seq.append(newn)\n",
    "\n",
    "    maxv = max(seq)\n",
    "\n",
    "    scaled_seq = [i/maxv for i in seq]\n",
    "\n",
    "    return scaled_seq"
   ]
  },
  {
   "cell_type": "code",
   "execution_count": 420,
   "metadata": {},
   "outputs": [],
   "source": [
    "# join year:recency multiplier\n",
    "recency = dict(zip(seasons, fibonacci(len(seasons))))"
   ]
  },
  {
   "cell_type": "code",
   "execution_count": 421,
   "metadata": {},
   "outputs": [],
   "source": [
    "# get this into a column\n",
    "scores['recency'] = scores['season'].apply(lambda x: recency[x])"
   ]
  },
  {
   "cell_type": "code",
   "execution_count": 422,
   "metadata": {},
   "outputs": [],
   "source": [
    "# create a multiplier column, if the runs/wickets are in the powerplay, multiply by 1.2\n",
    "scores['pp_multiplier'] = np.where(scores['pp'], 1.2, 1)"
   ]
  },
  {
   "cell_type": "code",
   "execution_count": 423,
   "metadata": {},
   "outputs": [],
   "source": [
    "# Runs score and wickets score\n",
    "# Sum together for players' powerplay or non-powerplay season score\n",
    "\n",
    "scores['runs_score'] = scores['pp_multiplier'] * scores['runs_rate_scaled'] * scores['recency']\n",
    "scores['wickets_score'] = scores['pp_multiplier'] * scores['wickets_rate_scaled'] * scores['recency'] #* 1.1\n",
    "scores['score'] = scores['runs_score'] + scores['wickets_score']"
   ]
  },
  {
   "cell_type": "code",
   "execution_count": 444,
   "metadata": {},
   "outputs": [],
   "source": [
    "# Sum a players scores across seasons and in/out powerplay\n",
    "rankings = scores.groupby('bowler').agg({'score':'sum','season':['min','max']})\n",
    "\n",
    "# Player must have appeared in the IPL 2019 or 2020 -- removes old players who have retired\n",
    "rankings = rankings[rankings[('season','max')].isin([2019,2020])].sort_values(('score','sum'), ascending=False)"
   ]
  },
  {
   "cell_type": "code",
   "execution_count": 445,
   "metadata": {},
   "outputs": [],
   "source": [
    "# Give rank in a column\n",
    "rankings['rank'] = rankings['score'].rank(ascending=False)"
   ]
  },
  {
   "cell_type": "code",
   "execution_count": 447,
   "metadata": {},
   "outputs": [
    {
     "output_type": "execute_result",
     "data": {
      "text/plain": [
       "                   score season        rank\n",
       "                     sum    min   max      \n",
       "bowler                                     \n",
       "JJ Bumrah       6.334356   2013  2020   1.0\n",
       "Rashid Khan     6.138528   2017  2020   2.0\n",
       "YS Chahal       6.121210   2013  2020   3.0\n",
       "R Tewatia       5.852520   2014  2020   4.0\n",
       "PP Chawla       5.796256   2008  2020   5.0\n",
       "A Mishra        5.755992   2008  2020   6.0\n",
       "B Kumar         5.689965   2011  2020   7.0\n",
       "Sandeep Sharma  5.616222   2013  2020   8.0\n",
       "TA Boult        5.613694   2015  2020   9.0\n",
       "CH Morris       5.550952   2013  2020  10.0"
      ],
      "text/html": "<div>\n<style scoped>\n    .dataframe tbody tr th:only-of-type {\n        vertical-align: middle;\n    }\n\n    .dataframe tbody tr th {\n        vertical-align: top;\n    }\n\n    .dataframe thead tr th {\n        text-align: left;\n    }\n\n    .dataframe thead tr:last-of-type th {\n        text-align: right;\n    }\n</style>\n<table border=\"1\" class=\"dataframe\">\n  <thead>\n    <tr>\n      <th></th>\n      <th>score</th>\n      <th colspan=\"2\" halign=\"left\">season</th>\n      <th>rank</th>\n    </tr>\n    <tr>\n      <th></th>\n      <th>sum</th>\n      <th>min</th>\n      <th>max</th>\n      <th></th>\n    </tr>\n    <tr>\n      <th>bowler</th>\n      <th></th>\n      <th></th>\n      <th></th>\n      <th></th>\n    </tr>\n  </thead>\n  <tbody>\n    <tr>\n      <th>JJ Bumrah</th>\n      <td>6.334356</td>\n      <td>2013</td>\n      <td>2020</td>\n      <td>1.0</td>\n    </tr>\n    <tr>\n      <th>Rashid Khan</th>\n      <td>6.138528</td>\n      <td>2017</td>\n      <td>2020</td>\n      <td>2.0</td>\n    </tr>\n    <tr>\n      <th>YS Chahal</th>\n      <td>6.121210</td>\n      <td>2013</td>\n      <td>2020</td>\n      <td>3.0</td>\n    </tr>\n    <tr>\n      <th>R Tewatia</th>\n      <td>5.852520</td>\n      <td>2014</td>\n      <td>2020</td>\n      <td>4.0</td>\n    </tr>\n    <tr>\n      <th>PP Chawla</th>\n      <td>5.796256</td>\n      <td>2008</td>\n      <td>2020</td>\n      <td>5.0</td>\n    </tr>\n    <tr>\n      <th>A Mishra</th>\n      <td>5.755992</td>\n      <td>2008</td>\n      <td>2020</td>\n      <td>6.0</td>\n    </tr>\n    <tr>\n      <th>B Kumar</th>\n      <td>5.689965</td>\n      <td>2011</td>\n      <td>2020</td>\n      <td>7.0</td>\n    </tr>\n    <tr>\n      <th>Sandeep Sharma</th>\n      <td>5.616222</td>\n      <td>2013</td>\n      <td>2020</td>\n      <td>8.0</td>\n    </tr>\n    <tr>\n      <th>TA Boult</th>\n      <td>5.613694</td>\n      <td>2015</td>\n      <td>2020</td>\n      <td>9.0</td>\n    </tr>\n    <tr>\n      <th>CH Morris</th>\n      <td>5.550952</td>\n      <td>2013</td>\n      <td>2020</td>\n      <td>10.0</td>\n    </tr>\n  </tbody>\n</table>\n</div>"
     },
     "metadata": {},
     "execution_count": 447
    }
   ],
   "source": [
    "rankings.head(10)"
   ]
  }
 ]
}