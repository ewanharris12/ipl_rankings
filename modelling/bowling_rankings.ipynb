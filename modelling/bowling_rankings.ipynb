{
 "metadata": {
  "language_info": {
   "codemirror_mode": {
    "name": "ipython",
    "version": 3
   },
   "file_extension": ".py",
   "mimetype": "text/x-python",
   "name": "python",
   "nbconvert_exporter": "python",
   "pygments_lexer": "ipython3",
   "version": "3.8.5-final"
  },
  "orig_nbformat": 2,
  "kernelspec": {
   "name": "python3",
   "display_name": "Python 3",
   "language": "python"
  }
 },
 "nbformat": 4,
 "nbformat_minor": 2,
 "cells": [
  {
   "cell_type": "code",
   "execution_count": 212,
   "metadata": {},
   "outputs": [],
   "source": [
    "import pandas as pd\n",
    "import numpy as np\n",
    "import math\n",
    "import os\n",
    "from datetime import datetime, date\n",
    "from scipy import stats"
   ]
  },
  {
   "cell_type": "code",
   "execution_count": 22,
   "metadata": {},
   "outputs": [],
   "source": [
    "cwd = os.getcwd()\n",
    "path_split = cwd.split('/')\n",
    "\n",
    "root_path = r'/'.join(path_split[:-1])"
   ]
  },
  {
   "cell_type": "code",
   "execution_count": 23,
   "metadata": {},
   "outputs": [],
   "source": [
    "mi_path = root_path+'/extraction/mi_ipl.csv'\n",
    "bb_path = root_path+'/extraction/bb_ipl.csv'"
   ]
  },
  {
   "cell_type": "code",
   "execution_count": 24,
   "metadata": {},
   "outputs": [],
   "source": [
    "mi = pd.read_csv(mi_path)\n",
    "bb = pd.read_csv(bb_path)"
   ]
  },
  {
   "cell_type": "code",
   "execution_count": 25,
   "metadata": {},
   "outputs": [],
   "source": [
    "season_lookup = mi[['match_id','season']]"
   ]
  },
  {
   "cell_type": "code",
   "execution_count": 285,
   "metadata": {},
   "outputs": [],
   "source": [
    "data = bb.merge(season_lookup, how='inner', on='match_id')"
   ]
  },
  {
   "cell_type": "code",
   "execution_count": 286,
   "metadata": {},
   "outputs": [
    {
     "output_type": "execute_result",
     "data": {
      "text/plain": [
       "2021"
      ]
     },
     "metadata": {},
     "execution_count": 286
    }
   ],
   "source": [
    "date.today().year"
   ]
  },
  {
   "cell_type": "code",
   "execution_count": 287,
   "metadata": {},
   "outputs": [],
   "source": [
    "data['four'] = np.where(data['runs'] == 4, True, False)\n",
    "data['six'] = np.where(data['runs'] == 6, True, False)\n",
    "data['boundary'] = data[['four','six']].any(1)\n",
    "data['pp'] = np.where(data['over'] < 7, True, False)\n",
    "\n",
    "# data[data['season'] = date.today().year-3]"
   ]
  },
  {
   "cell_type": "code",
   "execution_count": 288,
   "metadata": {},
   "outputs": [
    {
     "output_type": "execute_result",
     "data": {
      "text/plain": [
       "   match_id      batter Non_striker     bowler extra_type  runs  extras  \\\n",
       "0    598067  RV Uthappa    AJ Finch  IK Pathan        NaN     0       0   \n",
       "1    598067  RV Uthappa    AJ Finch  IK Pathan        NaN     2       0   \n",
       "2    598067  RV Uthappa    AJ Finch  IK Pathan        NaN     4       0   \n",
       "3    598067  RV Uthappa    AJ Finch  IK Pathan        NaN     0       0   \n",
       "4    598067  RV Uthappa    AJ Finch  IK Pathan        NaN     1       0   \n",
       "\n",
       "   total wicket_type player_out  innings  over  ball  bowling_wicket  season  \\\n",
       "0      0         NaN        NaN        1     0     1           False    2013   \n",
       "1      2         NaN        NaN        1     0     2           False    2013   \n",
       "2      6         NaN        NaN        1     0     3           False    2013   \n",
       "3      6         NaN        NaN        1     0     4           False    2013   \n",
       "4      7         NaN        NaN        1     0     5           False    2013   \n",
       "\n",
       "    four    six  boundary    pp  \n",
       "0  False  False     False  True  \n",
       "1  False  False     False  True  \n",
       "2   True  False      True  True  \n",
       "3  False  False     False  True  \n",
       "4  False  False     False  True  "
      ],
      "text/html": "<div>\n<style scoped>\n    .dataframe tbody tr th:only-of-type {\n        vertical-align: middle;\n    }\n\n    .dataframe tbody tr th {\n        vertical-align: top;\n    }\n\n    .dataframe thead th {\n        text-align: right;\n    }\n</style>\n<table border=\"1\" class=\"dataframe\">\n  <thead>\n    <tr style=\"text-align: right;\">\n      <th></th>\n      <th>match_id</th>\n      <th>batter</th>\n      <th>Non_striker</th>\n      <th>bowler</th>\n      <th>extra_type</th>\n      <th>runs</th>\n      <th>extras</th>\n      <th>total</th>\n      <th>wicket_type</th>\n      <th>player_out</th>\n      <th>innings</th>\n      <th>over</th>\n      <th>ball</th>\n      <th>bowling_wicket</th>\n      <th>season</th>\n      <th>four</th>\n      <th>six</th>\n      <th>boundary</th>\n      <th>pp</th>\n    </tr>\n  </thead>\n  <tbody>\n    <tr>\n      <th>0</th>\n      <td>598067</td>\n      <td>RV Uthappa</td>\n      <td>AJ Finch</td>\n      <td>IK Pathan</td>\n      <td>NaN</td>\n      <td>0</td>\n      <td>0</td>\n      <td>0</td>\n      <td>NaN</td>\n      <td>NaN</td>\n      <td>1</td>\n      <td>0</td>\n      <td>1</td>\n      <td>False</td>\n      <td>2013</td>\n      <td>False</td>\n      <td>False</td>\n      <td>False</td>\n      <td>True</td>\n    </tr>\n    <tr>\n      <th>1</th>\n      <td>598067</td>\n      <td>RV Uthappa</td>\n      <td>AJ Finch</td>\n      <td>IK Pathan</td>\n      <td>NaN</td>\n      <td>2</td>\n      <td>0</td>\n      <td>2</td>\n      <td>NaN</td>\n      <td>NaN</td>\n      <td>1</td>\n      <td>0</td>\n      <td>2</td>\n      <td>False</td>\n      <td>2013</td>\n      <td>False</td>\n      <td>False</td>\n      <td>False</td>\n      <td>True</td>\n    </tr>\n    <tr>\n      <th>2</th>\n      <td>598067</td>\n      <td>RV Uthappa</td>\n      <td>AJ Finch</td>\n      <td>IK Pathan</td>\n      <td>NaN</td>\n      <td>4</td>\n      <td>0</td>\n      <td>6</td>\n      <td>NaN</td>\n      <td>NaN</td>\n      <td>1</td>\n      <td>0</td>\n      <td>3</td>\n      <td>False</td>\n      <td>2013</td>\n      <td>True</td>\n      <td>False</td>\n      <td>True</td>\n      <td>True</td>\n    </tr>\n    <tr>\n      <th>3</th>\n      <td>598067</td>\n      <td>RV Uthappa</td>\n      <td>AJ Finch</td>\n      <td>IK Pathan</td>\n      <td>NaN</td>\n      <td>0</td>\n      <td>0</td>\n      <td>6</td>\n      <td>NaN</td>\n      <td>NaN</td>\n      <td>1</td>\n      <td>0</td>\n      <td>4</td>\n      <td>False</td>\n      <td>2013</td>\n      <td>False</td>\n      <td>False</td>\n      <td>False</td>\n      <td>True</td>\n    </tr>\n    <tr>\n      <th>4</th>\n      <td>598067</td>\n      <td>RV Uthappa</td>\n      <td>AJ Finch</td>\n      <td>IK Pathan</td>\n      <td>NaN</td>\n      <td>1</td>\n      <td>0</td>\n      <td>7</td>\n      <td>NaN</td>\n      <td>NaN</td>\n      <td>1</td>\n      <td>0</td>\n      <td>5</td>\n      <td>False</td>\n      <td>2013</td>\n      <td>False</td>\n      <td>False</td>\n      <td>False</td>\n      <td>True</td>\n    </tr>\n  </tbody>\n</table>\n</div>"
     },
     "metadata": {},
     "execution_count": 288
    }
   ],
   "source": [
    "data.head()"
   ]
  },
  {
   "cell_type": "code",
   "execution_count": 289,
   "metadata": {},
   "outputs": [],
   "source": [
    "grouped = data.groupby(['bowler','season','pp'], as_index=False).agg({'ball':'count',\n",
    "                                                'runs':'sum',\n",
    "                                                'extras':'sum',\n",
    "                                                'bowling_wicket':'sum',\n",
    "                                                'four':'sum',\n",
    "                                                'six':'sum',\n",
    "                                                'boundary':'sum'})\n",
    "\n",
    "grouped['runs'] = grouped['runs']+grouped['extras']\n",
    "grouped.drop(columns=['extras'], inplace=True)\n",
    "grouped.rename(columns={'ball':'balls','bowling_wicket':'wickets'}, inplace=True)"
   ]
  },
  {
   "cell_type": "code",
   "execution_count": 290,
   "metadata": {},
   "outputs": [],
   "source": [
    "for col in ['runs','wickets']:\n",
    "    grouped[col+'_rate'] = grouped[col] / grouped['balls']"
   ]
  },
  {
   "cell_type": "code",
   "execution_count": 291,
   "metadata": {},
   "outputs": [
    {
     "output_type": "execute_result",
     "data": {
      "text/plain": [
       "              bowler  season     pp  balls  runs  wickets  four  six  \\\n",
       "0     A Ashish Reddy    2012  False    157   208       11    11    9   \n",
       "1     A Ashish Reddy    2012   True     12    30        0     3    3   \n",
       "2     A Ashish Reddy    2013  False     41    71        3     7    3   \n",
       "3     A Ashish Reddy    2015  False     37    51        3     1    3   \n",
       "4     A Ashish Reddy    2016  False     23    40        1     4    2   \n",
       "...              ...     ...    ...    ...   ...      ...   ...  ...   \n",
       "2644          Z Khan    2015   True    113    92        6    12    0   \n",
       "2645          Z Khan    2016  False    100   154        5    13    5   \n",
       "2646          Z Khan    2016   True    171   187        5    26    2   \n",
       "2647          Z Khan    2017  False    104   168        4    13    7   \n",
       "2648          Z Khan    2017   True    142   155        6    18    1   \n",
       "\n",
       "      boundary  runs_rate  wickets_rate  \n",
       "0           20   1.324841      0.070064  \n",
       "1            6   2.500000      0.000000  \n",
       "2           10   1.731707      0.073171  \n",
       "3            4   1.378378      0.081081  \n",
       "4            6   1.739130      0.043478  \n",
       "...        ...        ...           ...  \n",
       "2644        12   0.814159      0.053097  \n",
       "2645        18   1.540000      0.050000  \n",
       "2646        28   1.093567      0.029240  \n",
       "2647        20   1.615385      0.038462  \n",
       "2648        19   1.091549      0.042254  \n",
       "\n",
       "[2649 rows x 11 columns]"
      ],
      "text/html": "<div>\n<style scoped>\n    .dataframe tbody tr th:only-of-type {\n        vertical-align: middle;\n    }\n\n    .dataframe tbody tr th {\n        vertical-align: top;\n    }\n\n    .dataframe thead th {\n        text-align: right;\n    }\n</style>\n<table border=\"1\" class=\"dataframe\">\n  <thead>\n    <tr style=\"text-align: right;\">\n      <th></th>\n      <th>bowler</th>\n      <th>season</th>\n      <th>pp</th>\n      <th>balls</th>\n      <th>runs</th>\n      <th>wickets</th>\n      <th>four</th>\n      <th>six</th>\n      <th>boundary</th>\n      <th>runs_rate</th>\n      <th>wickets_rate</th>\n    </tr>\n  </thead>\n  <tbody>\n    <tr>\n      <th>0</th>\n      <td>A Ashish Reddy</td>\n      <td>2012</td>\n      <td>False</td>\n      <td>157</td>\n      <td>208</td>\n      <td>11</td>\n      <td>11</td>\n      <td>9</td>\n      <td>20</td>\n      <td>1.324841</td>\n      <td>0.070064</td>\n    </tr>\n    <tr>\n      <th>1</th>\n      <td>A Ashish Reddy</td>\n      <td>2012</td>\n      <td>True</td>\n      <td>12</td>\n      <td>30</td>\n      <td>0</td>\n      <td>3</td>\n      <td>3</td>\n      <td>6</td>\n      <td>2.500000</td>\n      <td>0.000000</td>\n    </tr>\n    <tr>\n      <th>2</th>\n      <td>A Ashish Reddy</td>\n      <td>2013</td>\n      <td>False</td>\n      <td>41</td>\n      <td>71</td>\n      <td>3</td>\n      <td>7</td>\n      <td>3</td>\n      <td>10</td>\n      <td>1.731707</td>\n      <td>0.073171</td>\n    </tr>\n    <tr>\n      <th>3</th>\n      <td>A Ashish Reddy</td>\n      <td>2015</td>\n      <td>False</td>\n      <td>37</td>\n      <td>51</td>\n      <td>3</td>\n      <td>1</td>\n      <td>3</td>\n      <td>4</td>\n      <td>1.378378</td>\n      <td>0.081081</td>\n    </tr>\n    <tr>\n      <th>4</th>\n      <td>A Ashish Reddy</td>\n      <td>2016</td>\n      <td>False</td>\n      <td>23</td>\n      <td>40</td>\n      <td>1</td>\n      <td>4</td>\n      <td>2</td>\n      <td>6</td>\n      <td>1.739130</td>\n      <td>0.043478</td>\n    </tr>\n    <tr>\n      <th>...</th>\n      <td>...</td>\n      <td>...</td>\n      <td>...</td>\n      <td>...</td>\n      <td>...</td>\n      <td>...</td>\n      <td>...</td>\n      <td>...</td>\n      <td>...</td>\n      <td>...</td>\n      <td>...</td>\n    </tr>\n    <tr>\n      <th>2644</th>\n      <td>Z Khan</td>\n      <td>2015</td>\n      <td>True</td>\n      <td>113</td>\n      <td>92</td>\n      <td>6</td>\n      <td>12</td>\n      <td>0</td>\n      <td>12</td>\n      <td>0.814159</td>\n      <td>0.053097</td>\n    </tr>\n    <tr>\n      <th>2645</th>\n      <td>Z Khan</td>\n      <td>2016</td>\n      <td>False</td>\n      <td>100</td>\n      <td>154</td>\n      <td>5</td>\n      <td>13</td>\n      <td>5</td>\n      <td>18</td>\n      <td>1.540000</td>\n      <td>0.050000</td>\n    </tr>\n    <tr>\n      <th>2646</th>\n      <td>Z Khan</td>\n      <td>2016</td>\n      <td>True</td>\n      <td>171</td>\n      <td>187</td>\n      <td>5</td>\n      <td>26</td>\n      <td>2</td>\n      <td>28</td>\n      <td>1.093567</td>\n      <td>0.029240</td>\n    </tr>\n    <tr>\n      <th>2647</th>\n      <td>Z Khan</td>\n      <td>2017</td>\n      <td>False</td>\n      <td>104</td>\n      <td>168</td>\n      <td>4</td>\n      <td>13</td>\n      <td>7</td>\n      <td>20</td>\n      <td>1.615385</td>\n      <td>0.038462</td>\n    </tr>\n    <tr>\n      <th>2648</th>\n      <td>Z Khan</td>\n      <td>2017</td>\n      <td>True</td>\n      <td>142</td>\n      <td>155</td>\n      <td>6</td>\n      <td>18</td>\n      <td>1</td>\n      <td>19</td>\n      <td>1.091549</td>\n      <td>0.042254</td>\n    </tr>\n  </tbody>\n</table>\n<p>2649 rows × 11 columns</p>\n</div>"
     },
     "metadata": {},
     "execution_count": 291
    }
   ],
   "source": [
    "grouped"
   ]
  },
  {
   "cell_type": "code",
   "execution_count": 384,
   "metadata": {},
   "outputs": [],
   "source": [
    "minmax = grouped.groupby(['season','pp']).agg({'runs_rate':['min','max'], 'wickets_rate':['min','max']}).T.to_dict()"
   ]
  },
  {
   "cell_type": "code",
   "execution_count": 385,
   "metadata": {},
   "outputs": [],
   "source": [
    "def get_scores(row, minmax):\n",
    "    season = row['season']\n",
    "    pp = row['pp']\n",
    "\n",
    "    for col in ['runs_rate','wickets_rate']:\n",
    "        value = row[col]\n",
    "        minv = minmax[season,pp][col,'min']\n",
    "        maxv = minmax[season,pp][col,'max']\n",
    "\n",
    "        if col == 'runs_rate':\n",
    "            row[col+'_scaled'] = 1 - ((value-minv) / (maxv-minv))\n",
    "        else:\n",
    "            row[col+'_scaled'] = ((value-minv) / (maxv-minv))\n",
    "\n",
    "    return row"
   ]
  },
  {
   "cell_type": "code",
   "execution_count": 386,
   "metadata": {},
   "outputs": [
    {
     "output_type": "execute_result",
     "data": {
      "text/plain": [
       "              bowler  season     pp  balls  runs  wickets  four  six  \\\n",
       "0     A Ashish Reddy    2012  False    157   208       11    11    9   \n",
       "1     A Ashish Reddy    2012   True     12    30        0     3    3   \n",
       "2     A Ashish Reddy    2013  False     41    71        3     7    3   \n",
       "3     A Ashish Reddy    2015  False     37    51        3     1    3   \n",
       "4     A Ashish Reddy    2016  False     23    40        1     4    2   \n",
       "...              ...     ...    ...    ...   ...      ...   ...  ...   \n",
       "2644          Z Khan    2015   True    113    92        6    12    0   \n",
       "2645          Z Khan    2016  False    100   154        5    13    5   \n",
       "2646          Z Khan    2016   True    171   187        5    26    2   \n",
       "2647          Z Khan    2017  False    104   168        4    13    7   \n",
       "2648          Z Khan    2017   True    142   155        6    18    1   \n",
       "\n",
       "      boundary  runs_rate  wickets_rate  \n",
       "0           20   1.324841      0.070064  \n",
       "1            6   2.500000      0.000000  \n",
       "2           10   1.731707      0.073171  \n",
       "3            4   1.378378      0.081081  \n",
       "4            6   1.739130      0.043478  \n",
       "...        ...        ...           ...  \n",
       "2644        12   0.814159      0.053097  \n",
       "2645        18   1.540000      0.050000  \n",
       "2646        28   1.093567      0.029240  \n",
       "2647        20   1.615385      0.038462  \n",
       "2648        19   1.091549      0.042254  \n",
       "\n",
       "[2649 rows x 11 columns]"
      ],
      "text/html": "<div>\n<style scoped>\n    .dataframe tbody tr th:only-of-type {\n        vertical-align: middle;\n    }\n\n    .dataframe tbody tr th {\n        vertical-align: top;\n    }\n\n    .dataframe thead th {\n        text-align: right;\n    }\n</style>\n<table border=\"1\" class=\"dataframe\">\n  <thead>\n    <tr style=\"text-align: right;\">\n      <th></th>\n      <th>bowler</th>\n      <th>season</th>\n      <th>pp</th>\n      <th>balls</th>\n      <th>runs</th>\n      <th>wickets</th>\n      <th>four</th>\n      <th>six</th>\n      <th>boundary</th>\n      <th>runs_rate</th>\n      <th>wickets_rate</th>\n    </tr>\n  </thead>\n  <tbody>\n    <tr>\n      <th>0</th>\n      <td>A Ashish Reddy</td>\n      <td>2012</td>\n      <td>False</td>\n      <td>157</td>\n      <td>208</td>\n      <td>11</td>\n      <td>11</td>\n      <td>9</td>\n      <td>20</td>\n      <td>1.324841</td>\n      <td>0.070064</td>\n    </tr>\n    <tr>\n      <th>1</th>\n      <td>A Ashish Reddy</td>\n      <td>2012</td>\n      <td>True</td>\n      <td>12</td>\n      <td>30</td>\n      <td>0</td>\n      <td>3</td>\n      <td>3</td>\n      <td>6</td>\n      <td>2.500000</td>\n      <td>0.000000</td>\n    </tr>\n    <tr>\n      <th>2</th>\n      <td>A Ashish Reddy</td>\n      <td>2013</td>\n      <td>False</td>\n      <td>41</td>\n      <td>71</td>\n      <td>3</td>\n      <td>7</td>\n      <td>3</td>\n      <td>10</td>\n      <td>1.731707</td>\n      <td>0.073171</td>\n    </tr>\n    <tr>\n      <th>3</th>\n      <td>A Ashish Reddy</td>\n      <td>2015</td>\n      <td>False</td>\n      <td>37</td>\n      <td>51</td>\n      <td>3</td>\n      <td>1</td>\n      <td>3</td>\n      <td>4</td>\n      <td>1.378378</td>\n      <td>0.081081</td>\n    </tr>\n    <tr>\n      <th>4</th>\n      <td>A Ashish Reddy</td>\n      <td>2016</td>\n      <td>False</td>\n      <td>23</td>\n      <td>40</td>\n      <td>1</td>\n      <td>4</td>\n      <td>2</td>\n      <td>6</td>\n      <td>1.739130</td>\n      <td>0.043478</td>\n    </tr>\n    <tr>\n      <th>...</th>\n      <td>...</td>\n      <td>...</td>\n      <td>...</td>\n      <td>...</td>\n      <td>...</td>\n      <td>...</td>\n      <td>...</td>\n      <td>...</td>\n      <td>...</td>\n      <td>...</td>\n      <td>...</td>\n    </tr>\n    <tr>\n      <th>2644</th>\n      <td>Z Khan</td>\n      <td>2015</td>\n      <td>True</td>\n      <td>113</td>\n      <td>92</td>\n      <td>6</td>\n      <td>12</td>\n      <td>0</td>\n      <td>12</td>\n      <td>0.814159</td>\n      <td>0.053097</td>\n    </tr>\n    <tr>\n      <th>2645</th>\n      <td>Z Khan</td>\n      <td>2016</td>\n      <td>False</td>\n      <td>100</td>\n      <td>154</td>\n      <td>5</td>\n      <td>13</td>\n      <td>5</td>\n      <td>18</td>\n      <td>1.540000</td>\n      <td>0.050000</td>\n    </tr>\n    <tr>\n      <th>2646</th>\n      <td>Z Khan</td>\n      <td>2016</td>\n      <td>True</td>\n      <td>171</td>\n      <td>187</td>\n      <td>5</td>\n      <td>26</td>\n      <td>2</td>\n      <td>28</td>\n      <td>1.093567</td>\n      <td>0.029240</td>\n    </tr>\n    <tr>\n      <th>2647</th>\n      <td>Z Khan</td>\n      <td>2017</td>\n      <td>False</td>\n      <td>104</td>\n      <td>168</td>\n      <td>4</td>\n      <td>13</td>\n      <td>7</td>\n      <td>20</td>\n      <td>1.615385</td>\n      <td>0.038462</td>\n    </tr>\n    <tr>\n      <th>2648</th>\n      <td>Z Khan</td>\n      <td>2017</td>\n      <td>True</td>\n      <td>142</td>\n      <td>155</td>\n      <td>6</td>\n      <td>18</td>\n      <td>1</td>\n      <td>19</td>\n      <td>1.091549</td>\n      <td>0.042254</td>\n    </tr>\n  </tbody>\n</table>\n<p>2649 rows × 11 columns</p>\n</div>"
     },
     "metadata": {},
     "execution_count": 386
    }
   ],
   "source": [
    "grouped"
   ]
  },
  {
   "cell_type": "code",
   "execution_count": 417,
   "metadata": {},
   "outputs": [],
   "source": [
    "scores = grouped.apply(lambda row: get_scores(row, minmax), axis=1)"
   ]
  },
  {
   "cell_type": "code",
   "execution_count": 418,
   "metadata": {},
   "outputs": [],
   "source": [
    "seasons = scores.sort_values('season').season.unique().tolist()"
   ]
  },
  {
   "cell_type": "code",
   "execution_count": 419,
   "metadata": {},
   "outputs": [],
   "source": [
    "def fibonacci(n):\n",
    "    n0 = 0\n",
    "    n1 = 1\n",
    "    seq = [n1]\n",
    "\n",
    "    while len(seq) < n:\n",
    "        newn = n0+n1\n",
    "        n0 = n1\n",
    "        n1 = newn\n",
    "        seq.append(newn)\n",
    "\n",
    "    maxv = max(seq)\n",
    "\n",
    "    scaled_seq = [i/maxv for i in seq]\n",
    "\n",
    "    return scaled_seq"
   ]
  },
  {
   "cell_type": "code",
   "execution_count": 420,
   "metadata": {},
   "outputs": [],
   "source": [
    "recency = dict(zip(seasons, fibonacci(len(seasons))))"
   ]
  },
  {
   "cell_type": "code",
   "execution_count": 421,
   "metadata": {},
   "outputs": [],
   "source": [
    "scores['recency'] = scores['season'].apply(lambda x: recency[x])"
   ]
  },
  {
   "cell_type": "code",
   "execution_count": 422,
   "metadata": {},
   "outputs": [],
   "source": [
    "scores['pp_multiplier'] = np.where(scores['pp'], 1.2, 1)"
   ]
  },
  {
   "cell_type": "code",
   "execution_count": 423,
   "metadata": {},
   "outputs": [],
   "source": [
    "scores['runs_score'] = scores['pp_multiplier'] * scores['runs_rate_scaled'] * scores['recency']\n",
    "scores['wickets_score'] = scores['pp_multiplier'] * scores['wickets_rate_scaled'] * scores['recency'] #* 1.1\n",
    "scores['score'] = scores['runs_score'] + scores['wickets_score']"
   ]
  },
  {
   "cell_type": "code",
   "execution_count": 430,
   "metadata": {},
   "outputs": [],
   "source": [
    "rankings = scores.groupby('bowler').agg({'score':'sum','season':['min','max']})\n",
    "rankings = rankings[rankings[('season','max')] == 2020].sort_values(('score','sum'), ascending=False)"
   ]
  },
  {
   "cell_type": "code",
   "execution_count": 431,
   "metadata": {},
   "outputs": [],
   "source": [
    "rankings['rank'] = rankings['score'].rank(ascending=False)"
   ]
  },
  {
   "cell_type": "code",
   "execution_count": null,
   "metadata": {},
   "outputs": [],
   "source": []
  }
 ]
}